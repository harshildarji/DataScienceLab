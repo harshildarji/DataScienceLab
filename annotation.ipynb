{
 "cells": [
  {
   "cell_type": "code",
   "execution_count": 1,
   "metadata": {
    "scrolled": false
   },
   "outputs": [],
   "source": [
    "import warnings\n",
    "warnings.simplefilter('ignore')"
   ]
  },
  {
   "cell_type": "code",
   "execution_count": 2,
   "metadata": {
    "scrolled": false
   },
   "outputs": [],
   "source": [
    "import numpy as np\n",
    "import pylab as plt\n",
    "import pandas as pd\n",
    "import matplotlib.pyplot as plt\n",
    "\n",
    "from sklearn.tree import DecisionTreeClassifier\n",
    "from sklearn.naive_bayes import BernoulliNB\n",
    "from sklearn.svm import SVC\n",
    "from sklearn.ensemble import RandomForestClassifier\n",
    "\n",
    "from sklearn.model_selection import train_test_split\n",
    "from sklearn.metrics import accuracy_score, precision_score, recall_score, f1_score\n",
    "from sklearn.model_selection import KFold, cross_val_score\n",
    "\n",
    "from sklearn.feature_extraction.text import TfidfVectorizer\n",
    "from gensim.models.doc2vec import Doc2Vec, TaggedDocument\n",
    "\n",
    "from imblearn.over_sampling import SMOTE\n",
    "from nltk.tokenize import word_tokenize\n",
    "from nltk.corpus import stopwords\n",
    "\n",
    "import multiprocessing"
   ]
  },
  {
   "cell_type": "markdown",
   "metadata": {},
   "source": [
    "### Training data preparation"
   ]
  },
  {
   "cell_type": "code",
   "execution_count": 3,
   "metadata": {
    "scrolled": false
   },
   "outputs": [],
   "source": [
    "data = pd.read_csv('./data/train_data.csv')\n",
    "label = pd.read_csv('./data/train_label.csv')"
   ]
  },
  {
   "cell_type": "code",
   "execution_count": 4,
   "metadata": {
    "scrolled": false
   },
   "outputs": [
    {
     "data": {
      "text/html": [
       "<div>\n",
       "<style scoped>\n",
       "    .dataframe tbody tr th:only-of-type {\n",
       "        vertical-align: middle;\n",
       "    }\n",
       "\n",
       "    .dataframe tbody tr th {\n",
       "        vertical-align: top;\n",
       "    }\n",
       "\n",
       "    .dataframe thead th {\n",
       "        text-align: right;\n",
       "    }\n",
       "</style>\n",
       "<table border=\"1\" class=\"dataframe\">\n",
       "  <thead>\n",
       "    <tr style=\"text-align: right;\">\n",
       "      <th></th>\n",
       "      <th>desc</th>\n",
       "      <th>tweet</th>\n",
       "      <th>label</th>\n",
       "    </tr>\n",
       "  </thead>\n",
       "  <tbody>\n",
       "    <tr>\n",
       "      <th>0</th>\n",
       "      <td>none</td>\n",
       "      <td>mariotti did your ancestors have to apply thro...</td>\n",
       "      <td>0</td>\n",
       "    </tr>\n",
       "    <tr>\n",
       "      <th>1</th>\n",
       "      <td>usmc veteran love god wife family dog and coun...</td>\n",
       "      <td>rule of law all the liberals including her wan...</td>\n",
       "      <td>0</td>\n",
       "    </tr>\n",
       "    <tr>\n",
       "      <th>2</th>\n",
       "      <td>none</td>\n",
       "      <td>rt japanmissionun thank you unicef unhcr nyoff...</td>\n",
       "      <td>0</td>\n",
       "    </tr>\n",
       "    <tr>\n",
       "      <th>3</th>\n",
       "      <td>we ve been referring people to law firms since...</td>\n",
       "      <td>know a good law firm in stirling immigration c...</td>\n",
       "      <td>0</td>\n",
       "    </tr>\n",
       "    <tr>\n",
       "      <th>4</th>\n",
       "      <td>i love life i love my family i love people</td>\n",
       "      <td>wall street ally with a skepticism of immigrat...</td>\n",
       "      <td>0</td>\n",
       "    </tr>\n",
       "  </tbody>\n",
       "</table>\n",
       "</div>"
      ],
      "text/plain": [
       "                                                desc  \\\n",
       "0                                               none   \n",
       "1  usmc veteran love god wife family dog and coun...   \n",
       "2                                               none   \n",
       "3  we ve been referring people to law firms since...   \n",
       "4         i love life i love my family i love people   \n",
       "\n",
       "                                               tweet  label  \n",
       "0  mariotti did your ancestors have to apply thro...      0  \n",
       "1  rule of law all the liberals including her wan...      0  \n",
       "2  rt japanmissionun thank you unicef unhcr nyoff...      0  \n",
       "3  know a good law firm in stirling immigration c...      0  \n",
       "4  wall street ally with a skepticism of immigrat...      0  "
      ]
     },
     "execution_count": 4,
     "metadata": {},
     "output_type": "execute_result"
    }
   ],
   "source": [
    "data['label'] = label['label']\n",
    "data.head()"
   ]
  },
  {
   "cell_type": "code",
   "execution_count": 5,
   "metadata": {
    "scrolled": false
   },
   "outputs": [
    {
     "data": {
      "text/plain": [
       "desc     27\n",
       "tweet     0\n",
       "label     0\n",
       "dtype: int64"
      ]
     },
     "execution_count": 5,
     "metadata": {},
     "output_type": "execute_result"
    }
   ],
   "source": [
    "data.isnull().sum()"
   ]
  },
  {
   "cell_type": "code",
   "execution_count": 6,
   "metadata": {
    "scrolled": false
   },
   "outputs": [
    {
     "data": {
      "text/plain": [
       "desc     0\n",
       "tweet    0\n",
       "label    0\n",
       "dtype: int64"
      ]
     },
     "execution_count": 6,
     "metadata": {},
     "output_type": "execute_result"
    }
   ],
   "source": [
    "data = data.dropna().reset_index(drop = True)\n",
    "data.isnull().sum()"
   ]
  },
  {
   "cell_type": "code",
   "execution_count": 7,
   "metadata": {
    "scrolled": false
   },
   "outputs": [
    {
     "data": {
      "text/plain": [
       "(3929, 3)"
      ]
     },
     "execution_count": 7,
     "metadata": {},
     "output_type": "execute_result"
    }
   ],
   "source": [
    "data.shape"
   ]
  },
  {
   "cell_type": "code",
   "execution_count": 8,
   "metadata": {},
   "outputs": [],
   "source": [
    "X = data['desc'] + ' ' + data['tweet']\n",
    "Y = data['label']"
   ]
  },
  {
   "cell_type": "code",
   "execution_count": 9,
   "metadata": {},
   "outputs": [
    {
     "data": {
      "text/plain": [
       "((3929,), (3929,))"
      ]
     },
     "execution_count": 9,
     "metadata": {},
     "output_type": "execute_result"
    }
   ],
   "source": [
    "X.shape, Y.shape"
   ]
  },
  {
   "cell_type": "markdown",
   "metadata": {},
   "source": [
    "### Classification data praparation"
   ]
  },
  {
   "cell_type": "code",
   "execution_count": 10,
   "metadata": {
    "scrolled": false
   },
   "outputs": [],
   "source": [
    "_classification_data = pd.read_csv('./data/test_data.csv')"
   ]
  },
  {
   "cell_type": "code",
   "execution_count": 11,
   "metadata": {},
   "outputs": [
    {
     "data": {
      "text/plain": [
       "(819, 2)"
      ]
     },
     "execution_count": 11,
     "metadata": {},
     "output_type": "execute_result"
    }
   ],
   "source": [
    "_classification_data = _classification_data.dropna().reset_index(drop = True)\n",
    "_classification_data.shape"
   ]
  },
  {
   "cell_type": "code",
   "execution_count": 12,
   "metadata": {},
   "outputs": [],
   "source": [
    "classification_data = _classification_data['text']\n",
    "classification_labels = _classification_data['label']"
   ]
  },
  {
   "cell_type": "markdown",
   "metadata": {},
   "source": [
    "### Preparing feature extraction models"
   ]
  },
  {
   "cell_type": "code",
   "execution_count": 13,
   "metadata": {},
   "outputs": [],
   "source": [
    "def tokenize(text):\n",
    "    return [word for word in word_tokenize(text.lower()) if word not in stopwords.words('english')]"
   ]
  },
  {
   "cell_type": "code",
   "execution_count": 14,
   "metadata": {
    "scrolled": false
   },
   "outputs": [
    {
     "name": "stdout",
     "output_type": "stream",
     "text": [
      "Wall time: 1min 9s\n"
     ]
    }
   ],
   "source": [
    "%%time\n",
    "vectorizer = TfidfVectorizer(tokenizer = tokenize)\n",
    "vectorized_data = vectorizer.fit_transform(X)\n",
    "classification_data = vectorizer.transform(classification_data)"
   ]
  },
  {
   "cell_type": "code",
   "execution_count": 15,
   "metadata": {
    "scrolled": false
   },
   "outputs": [
    {
     "name": "stdout",
     "output_type": "stream",
     "text": [
      "Wall time: 53.1 s\n"
     ]
    }
   ],
   "source": [
    "%%time\n",
    "tagged_data = [TaggedDocument(words = tokenize(_d), tags=[str(i)]) for i, _d in enumerate(X)]"
   ]
  },
  {
   "cell_type": "code",
   "execution_count": 16,
   "metadata": {},
   "outputs": [],
   "source": [
    "cores = multiprocessing.cpu_count()"
   ]
  },
  {
   "cell_type": "code",
   "execution_count": 17,
   "metadata": {
    "scrolled": false
   },
   "outputs": [
    {
     "name": "stdout",
     "output_type": "stream",
     "text": [
      "Wall time: 6min 2s\n"
     ]
    }
   ],
   "source": [
    "%%time\n",
    "d2v_dm = Doc2Vec(tagged_data, dm=1, min_count=20, window=2, size=300, sample=6e-5, alpha=0.03, min_alpha=0.0007, negative=20, workers=cores-1)\n",
    "d2v_dbow = Doc2Vec(tagged_data, dm=0, min_count=20, window=2, size=300, sample=6e-5, alpha=0.03, min_alpha=0.0007, negative=20, workers=cores-1)"
   ]
  },
  {
   "cell_type": "markdown",
   "metadata": {},
   "source": [
    "### Preparing methods to evaluate and store results"
   ]
  },
  {
   "cell_type": "code",
   "execution_count": 18,
   "metadata": {
    "scrolled": false
   },
   "outputs": [],
   "source": [
    "results = dict()\n",
    "cross_val = dict()"
   ]
  },
  {
   "cell_type": "code",
   "execution_count": 19,
   "metadata": {
    "scrolled": false
   },
   "outputs": [],
   "source": [
    "def eval(clf_name, feat, y_test, predictions):\n",
    "    scores = dict()\n",
    "    \n",
    "    if clf_name not in results:\n",
    "        results[clf_name] = {'accuracy': [],\n",
    "                             'macro_precision': [], 'macro_recall': [], 'macro_f1': [],\n",
    "                             'micro_precision': [], 'micro_recall': [], 'micro_f1': []}\n",
    "    \n",
    "    results[clf_name]['accuracy'].append(accuracy_score(y_test, predictions))\n",
    "\n",
    "    results[clf_name]['macro_precision'].append(precision_score(y_test, predictions, average='macro'))\n",
    "    results[clf_name]['macro_recall'].append(recall_score(y_test, predictions, average='macro'))\n",
    "    results[clf_name]['macro_f1'].append(f1_score(y_test, predictions, average='macro'))\n",
    "\n",
    "    results[clf_name]['micro_precision'].append(precision_score(y_test, predictions, average='micro'))\n",
    "    results[clf_name]['micro_recall'].append(recall_score(y_test, predictions, average='micro'))\n",
    "    results[clf_name]['micro_f1'].append(f1_score(y_test, predictions, average='micro'))"
   ]
  },
  {
   "cell_type": "code",
   "execution_count": 20,
   "metadata": {
    "scrolled": false
   },
   "outputs": [],
   "source": [
    "def cross(clf, clf_name, feat, X_train, Y_train):\n",
    "    kf = KFold(n_splits=10, random_state = 42, shuffle = True)\n",
    "    scores = cross_val_score(clf, X_train, Y_train, cv = kf)\n",
    "    \n",
    "    if clf_name not in cross_val:\n",
    "        cross_val[clf_name] = {feat: scores}\n",
    "    else:\n",
    "        cross_val[clf_name].update({feat: scores})"
   ]
  },
  {
   "cell_type": "code",
   "execution_count": 21,
   "metadata": {},
   "outputs": [],
   "source": [
    "classification_acc = dict()\n",
    "classification_pre = dict()\n",
    "classification_rec = dict()\n",
    "classification_f1 = dict()"
   ]
  },
  {
   "cell_type": "code",
   "execution_count": 22,
   "metadata": {},
   "outputs": [],
   "source": [
    "def classify(clf, clf_name): \n",
    "    predictions = clf.predict(classification_data)\n",
    "    \n",
    "    acc = accuracy_score(classification_labels, predictions)\n",
    "    pre = precision_score(classification_labels, predictions, average='macro')\n",
    "    rec = recall_score(classification_labels, predictions, average='macro')\n",
    "    f1 = f1_score(classification_labels, predictions, average='macro')\n",
    "    \n",
    "    classification_acc[clf_name] = acc\n",
    "    classification_pre[clf_name] = pre\n",
    "    classification_rec[clf_name] = rec\n",
    "    classification_f1[clf_name] = f1"
   ]
  },
  {
   "cell_type": "markdown",
   "metadata": {},
   "source": [
    "### Preparing methods for training and classification purpose"
   ]
  },
  {
   "cell_type": "code",
   "execution_count": 23,
   "metadata": {
    "scrolled": false
   },
   "outputs": [],
   "source": [
    "def split(X, Y):\n",
    "    return train_test_split(X, Y, test_size = .4, shuffle = False)"
   ]
  },
  {
   "cell_type": "code",
   "execution_count": 24,
   "metadata": {},
   "outputs": [],
   "source": [
    "def resample(d, l):\n",
    "    sm = SMOTE(random_state=42, ratio=1.0)\n",
    "    return sm.fit_sample(d, l)"
   ]
  },
  {
   "cell_type": "code",
   "execution_count": 25,
   "metadata": {
    "scrolled": false
   },
   "outputs": [],
   "source": [
    "def train_tfidf(clf, clf_name, X, Y):\n",
    "    X_train, X_test, Y_train, Y_test = split(X, Y)\n",
    "    X_train, Y_train = resample(X_train, Y_train)\n",
    "    \n",
    "    clf.fit(X_train, Y_train)\n",
    "    predictions = clf.predict(X_test)\n",
    "    \n",
    "    cross(clf, clf_name, feats[0], X_train, Y_train)\n",
    "    eval(clf_name, feats[0], Y_test, predictions)\n",
    "    \n",
    "    # In former runs, we identified that TF-IDF gives best results compared to PV-DM and PV-DBOW. Therefore, we will only perform classification using TF-IDF method.\n",
    "    classify(clf, clf_name)"
   ]
  },
  {
   "cell_type": "code",
   "execution_count": 26,
   "metadata": {
    "scrolled": false
   },
   "outputs": [],
   "source": [
    "def train_d2v(model, feat, clf, clf_name, X, Y):\n",
    "    X_train, X_test, Y_train, Y_test = split(X, Y)\n",
    "    \n",
    "    x_train = []\n",
    "    y_train = []\n",
    "    x_test = []\n",
    "    y_test = []\n",
    "\n",
    "    for i in range(X_train.shape[0]):\n",
    "        x_train.append(model[str(i)])\n",
    "        y_train.append(Y_train[i])\n",
    "    \n",
    "    for i in range(X_test.shape[0]):\n",
    "        x_test.append(model[str(i + X_train.shape[0])])\n",
    "        y_test.append(Y_test[i + X_train.shape[0]])\n",
    "        \n",
    "    x_train, y_train = resample(x_train, y_train)\n",
    "    clf.fit(x_train, y_train)\n",
    "    predictions = clf.predict(x_test)\n",
    "    \n",
    "    cross(clf, clf_name, feat, x_train, y_train)\n",
    "    eval(clf_name, feat, y_test, predictions)"
   ]
  },
  {
   "cell_type": "markdown",
   "metadata": {},
   "source": [
    "### Training and classification"
   ]
  },
  {
   "cell_type": "code",
   "execution_count": 27,
   "metadata": {},
   "outputs": [],
   "source": [
    "clfs = [DecisionTreeClassifier(), SVC(), RandomForestClassifier(), BernoulliNB()]\n",
    "clf_names = ['Decision Trees', 'Support Vector Machine', 'Random Forest', 'Naive Bayes']"
   ]
  },
  {
   "cell_type": "code",
   "execution_count": 28,
   "metadata": {},
   "outputs": [],
   "source": [
    "feats = ['TF-IDF', 'PV-DM', 'PV-DBOW']"
   ]
  },
  {
   "cell_type": "code",
   "execution_count": 29,
   "metadata": {
    "scrolled": false
   },
   "outputs": [
    {
     "name": "stdout",
     "output_type": "stream",
     "text": [
      "Wall time: 6min 15s\n"
     ]
    }
   ],
   "source": [
    "%%time\n",
    "for i in range(len(clfs)):\n",
    "    train_tfidf(clfs[i], clf_names[i], vectorized_data, Y)\n",
    "    train_d2v(d2v_dm, feats[1], clfs[i], clf_names[i], X, Y)\n",
    "    train_d2v(d2v_dbow, feats[2], clfs[i], clf_names[i], X, Y)"
   ]
  },
  {
   "cell_type": "markdown",
   "metadata": {},
   "source": [
    "### Just printing and ploting everything we have got!"
   ]
  },
  {
   "cell_type": "code",
   "execution_count": 30,
   "metadata": {
    "scrolled": false
   },
   "outputs": [
    {
     "name": "stdout",
     "output_type": "stream",
     "text": [
      "\n",
      "Classifier: Decision Trees\n",
      "\n",
      "\t\t\tTF-IDF\t\tPV-DM\t\tPV-DBOW\n",
      " ----------------------------------------------------------------\n",
      "accuracy            :\t0.836514\t0.662850\t0.664758\n",
      "macro_precision     :\t0.675995\t0.503576\t0.501966\n",
      "macro_recall        :\t0.712666\t0.506017\t0.503276\n",
      "macro_f1            :\t0.690879\t0.489525\t0.488380\n",
      "micro_precision     :\t0.836514\t0.662850\t0.664758\n",
      "micro_recall        :\t0.836514\t0.662850\t0.664758\n",
      "micro_f1            :\t0.836514\t0.662850\t0.664758\n",
      "\n",
      "Classifier: Support Vector Machine\n",
      "\n",
      "\t\t\tTF-IDF\t\tPV-DM\t\tPV-DBOW\n",
      " ----------------------------------------------------------------\n",
      "accuracy            :\t0.890585\t0.138677\t0.138677\n",
      "macro_precision     :\t0.788498\t0.069338\t0.069338\n",
      "macro_recall        :\t0.695947\t0.500000\t0.500000\n",
      "macro_f1            :\t0.728908\t0.121788\t0.121788\n",
      "micro_precision     :\t0.890585\t0.138677\t0.138677\n",
      "micro_recall        :\t0.890585\t0.138677\t0.138677\n",
      "micro_f1            :\t0.890585\t0.138677\t0.138677\n",
      "\n",
      "Classifier: Random Forest\n",
      "\n",
      "\t\t\tTF-IDF\t\tPV-DM\t\tPV-DBOW\n",
      " ----------------------------------------------------------------\n",
      "accuracy            :\t0.900127\t0.818702\t0.832061\n",
      "macro_precision     :\t0.824080\t0.512241\t0.526504\n",
      "macro_recall        :\t0.707259\t0.506047\t0.509954\n",
      "macro_f1            :\t0.746986\t0.500066\t0.501662\n",
      "micro_precision     :\t0.900127\t0.818702\t0.832061\n",
      "micro_recall        :\t0.900127\t0.818702\t0.832061\n",
      "micro_f1            :\t0.900127\t0.818702\t0.832061\n",
      "\n",
      "Classifier: Naive Bayes\n",
      "\n",
      "\t\t\tTF-IDF\t\tPV-DM\t\tPV-DBOW\n",
      " ----------------------------------------------------------------\n",
      "accuracy            :\t0.890585\t0.809796\t0.139949\n",
      "macro_precision     :\t0.770645\t0.482942\t0.569427\n",
      "macro_recall        :\t0.849891\t0.491256\t0.500739\n",
      "macro_f1            :\t0.801227\t0.481310\t0.123399\n",
      "micro_precision     :\t0.890585\t0.809796\t0.139949\n",
      "micro_recall        :\t0.890585\t0.809796\t0.139949\n",
      "micro_f1            :\t0.890585\t0.809796\t0.139949\n"
     ]
    }
   ],
   "source": [
    "for c in results:\n",
    "    print('\\nClassifier: {}'.format(c))\n",
    "    print('\\n\\t\\t\\t{}\\t\\t{}\\t\\t{}\\n'.format(feats[0], feats[1], feats[2]), '-' * 64)\n",
    "    for s in results[c]:\n",
    "        print('{:20s}:\\t{:f}\\t{:f}\\t{:f}'.format(s, results[c][s][0], results[c][s][1], results[c][s][2]))"
   ]
  },
  {
   "cell_type": "code",
   "execution_count": 31,
   "metadata": {},
   "outputs": [],
   "source": [
    "def bar_plot(clf_name, scores):\n",
    "    index = np.arange(len(feats))\n",
    "    plt.barh(index, scores, color=['royalblue', 'cornflowerblue', 'lightsteelblue'])\n",
    "    plt.xlabel('Accuracy', fontsize = 10)\n",
    "    plt.ylabel('Feature extraction method', fontsize = 10)\n",
    "    plt.yticks(index, feats, fontsize = 10)\n",
    "    plt.gcf().subplots_adjust(left = 0.25)\n",
    "    plt.title(clf_name)\n",
    "    plt.savefig('_'.join(clf_name.split()).lower() + '_acc.png')\n",
    "    plt.show()"
   ]
  },
  {
   "cell_type": "code",
   "execution_count": 32,
   "metadata": {},
   "outputs": [
    {
     "data": {
      "image/png": "[encoded data removed]",
      "text/plain": [
       "<Figure size 432x288 with 1 Axes>"
      ]
     },
     "metadata": {
      "needs_background": "light"
     },
     "output_type": "display_data"
    },
    {
     "data": {
      "image/png": "[encoded data removed]",
      "text/plain": [
       "<Figure size 432x288 with 1 Axes>"
      ]
     },
     "metadata": {
      "needs_background": "light"
     },
     "output_type": "display_data"
    },
    {
     "data": {
      "image/png": "[encoded data removed]",
      "text/plain": [
       "<Figure size 432x288 with 1 Axes>"
      ]
     },
     "metadata": {
      "needs_background": "light"
     },
     "output_type": "display_data"
    },
    {
     "data": {
      "image/png": "[encoded data removed]",
      "text/plain": [
       "<Figure size 432x288 with 1 Axes>"
      ]
     },
     "metadata": {
      "needs_background": "light"
     },
     "output_type": "display_data"
    }
   ],
   "source": [
    "for c in results:\n",
    "    clf_name = c\n",
    "    scores = [results[c]['accuracy'][0], results[c]['accuracy'][1], results[c]['accuracy'][2]]\n",
    "    bar_plot(clf_name, scores)"
   ]
  },
  {
   "cell_type": "code",
   "execution_count": 33,
   "metadata": {
    "scrolled": false
   },
   "outputs": [],
   "source": [
    "def fold_plot(clf_name):\n",
    "    plt.xlabel('Fold as test set')\n",
    "    plt.ylim(0.4, 1)\n",
    "    plt.ylabel('Score')\n",
    "    plt.plot(np.arange(1, 11), cross_val[clf_name]['TF-IDF'], color='blue')\n",
    "    plt.plot(np.arange(1, 11), cross_val[clf_name]['PV-DM'], color='red', linestyle='dashed')\n",
    "    plt.plot(np.arange(1, 11), cross_val[clf_name]['PV-DBOW'], color='green', linestyle='dotted')\n",
    "    plt.legend(['TF-IDF', 'PV-DM', 'PV-DBOW'], loc='best')\n",
    "    plt.title(clf_name)\n",
    "    plt.savefig('_'.join(clf_name.split()).lower() + '_fold.png')\n",
    "    plt.show()"
   ]
  },
  {
   "cell_type": "code",
   "execution_count": 34,
   "metadata": {
    "scrolled": false
   },
   "outputs": [
    {
     "data": {
      "image/png": "[encoded data removed]",
      "text/plain": [
       "<Figure size 432x288 with 1 Axes>"
      ]
     },
     "metadata": {
      "needs_background": "light"
     },
     "output_type": "display_data"
    },
    {
     "data": {
      "image/png": "[encoded data removed]",
      "text/plain": [
       "<Figure size 432x288 with 1 Axes>"
      ]
     },
     "metadata": {
      "needs_background": "light"
     },
     "output_type": "display_data"
    },
    {
     "data": {
      "image/png": "[encoded data removed]",
      "text/plain": [
       "<Figure size 432x288 with 1 Axes>"
      ]
     },
     "metadata": {
      "needs_background": "light"
     },
     "output_type": "display_data"
    },
    {
     "data": {
      "image/png": "[encoded data removed]",
      "text/plain": [
       "<Figure size 432x288 with 1 Axes>"
      ]
     },
     "metadata": {
      "needs_background": "light"
     },
     "output_type": "display_data"
    }
   ],
   "source": [
    "for c in cross_val:\n",
    "    fold_plot(c)"
   ]
  },
  {
   "cell_type": "code",
   "execution_count": 35,
   "metadata": {},
   "outputs": [
    {
     "name": "stdout",
     "output_type": "stream",
     "text": [
      "Classification evaluation:\n",
      "\t\t\t\tAccuracy\tPrecision\tRecall\t\tF1\n",
      " ------------------------------------------------------------------------------------------\n",
      "Decision Trees      \t:\t0.814408\t0.635751\t0.660564\t0.645874\n",
      "Support Vector Machine\t:\t0.875458\t0.745654\t0.651904\t0.681687\n",
      "Random Forest       \t:\t0.894994\t0.846547\t0.659574\t0.705435\n",
      "Naive Bayes         \t:\t0.881563\t0.754572\t0.806196\t0.776165\n"
     ]
    }
   ],
   "source": [
    "print('Classification evaluation:\\n\\t\\t\\t\\tAccuracy\\tPrecision\\tRecall\\t\\tF1\\n', '-' * 90)\n",
    "for clf in clf_names:\n",
    "    print('{:20s}\\t:\\t{:f}\\t{:f}\\t{:f}\\t{:f}'.format(clf, classification_acc[clf], classification_pre[clf], classification_rec[clf], classification_f1[clf]))"
   ]
  }
 ],
 "metadata": {
  "kernelspec": {
   "display_name": "Python 3",
   "language": "python",
   "name": "python3"
  },
  "language_info": {
   "codemirror_mode": {
    "name": "ipython",
    "version": 3
   },
   "file_extension": ".py",
   "mimetype": "text/x-python",
   "name": "python",
   "nbconvert_exporter": "python",
   "pygments_lexer": "ipython3",
   "version": "3.6.8"
  }
 },
 "nbformat": 4,
 "nbformat_minor": 2
}
