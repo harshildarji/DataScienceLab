{
 "cells": [
  {
   "cell_type": "code",
   "execution_count": 1,
   "metadata": {
    "scrolled": false
   },
   "outputs": [],
   "source": [
    "import warnings\n",
    "warnings.simplefilter('ignore')"
   ]
  },
  {
   "cell_type": "code",
   "execution_count": 2,
   "metadata": {
    "scrolled": false
   },
   "outputs": [],
   "source": [
    "import numpy as np\n",
    "import pylab as plt\n",
    "import pandas as pd\n",
    "import matplotlib.pyplot as plt\n",
    "\n",
    "from sklearn.tree import DecisionTreeClassifier\n",
    "from sklearn.naive_bayes import BernoulliNB\n",
    "from sklearn.svm import SVC\n",
    "from sklearn.ensemble import RandomForestClassifier\n",
    "\n",
    "from sklearn.model_selection import train_test_split\n",
    "from sklearn.metrics import accuracy_score, precision_score, recall_score, f1_score\n",
    "from sklearn.model_selection import KFold, cross_val_score\n",
    "\n",
    "from sklearn.feature_extraction.text import TfidfVectorizer\n",
    "from gensim.models.doc2vec import Doc2Vec, TaggedDocument\n",
    "\n",
    "from nltk.tokenize import word_tokenize\n",
    "from nltk.corpus import stopwords\n",
    "\n",
    "import multiprocessing"
   ]
  },
  {
   "cell_type": "code",
   "execution_count": 3,
   "metadata": {
    "scrolled": false
   },
   "outputs": [],
   "source": [
    "data = pd.read_csv('./data/train_data.csv')\n",
    "label = pd.read_csv('./data/train_label.csv')"
   ]
  },
  {
   "cell_type": "code",
   "execution_count": 4,
   "metadata": {
    "scrolled": false
   },
   "outputs": [
    {
     "data": {
      "text/html": [
       "<div>\n",
       "<style scoped>\n",
       "    .dataframe tbody tr th:only-of-type {\n",
       "        vertical-align: middle;\n",
       "    }\n",
       "\n",
       "    .dataframe tbody tr th {\n",
       "        vertical-align: top;\n",
       "    }\n",
       "\n",
       "    .dataframe thead th {\n",
       "        text-align: right;\n",
       "    }\n",
       "</style>\n",
       "<table border=\"1\" class=\"dataframe\">\n",
       "  <thead>\n",
       "    <tr style=\"text-align: right;\">\n",
       "      <th></th>\n",
       "      <th>desc</th>\n",
       "      <th>tweet</th>\n",
       "      <th>label</th>\n",
       "    </tr>\n",
       "  </thead>\n",
       "  <tbody>\n",
       "    <tr>\n",
       "      <th>0</th>\n",
       "      <td>none</td>\n",
       "      <td>mariotti did your ancestors have to apply thro...</td>\n",
       "      <td>0</td>\n",
       "    </tr>\n",
       "    <tr>\n",
       "      <th>1</th>\n",
       "      <td>usmc veteran love god wife family dog and coun...</td>\n",
       "      <td>rule of law all the liberals including her wan...</td>\n",
       "      <td>0</td>\n",
       "    </tr>\n",
       "    <tr>\n",
       "      <th>2</th>\n",
       "      <td>none</td>\n",
       "      <td>rt japanmissionun thank you unicef unhcr nyoff...</td>\n",
       "      <td>0</td>\n",
       "    </tr>\n",
       "    <tr>\n",
       "      <th>3</th>\n",
       "      <td>we ve been referring people to law firms since...</td>\n",
       "      <td>know a good law firm in stirling immigration c...</td>\n",
       "      <td>0</td>\n",
       "    </tr>\n",
       "    <tr>\n",
       "      <th>4</th>\n",
       "      <td>i love life i love my family i love people</td>\n",
       "      <td>wall street ally with a skepticism of immigrat...</td>\n",
       "      <td>0</td>\n",
       "    </tr>\n",
       "  </tbody>\n",
       "</table>\n",
       "</div>"
      ],
      "text/plain": [
       "                                                desc  \\\n",
       "0                                               none   \n",
       "1  usmc veteran love god wife family dog and coun...   \n",
       "2                                               none   \n",
       "3  we ve been referring people to law firms since...   \n",
       "4         i love life i love my family i love people   \n",
       "\n",
       "                                               tweet  label  \n",
       "0  mariotti did your ancestors have to apply thro...      0  \n",
       "1  rule of law all the liberals including her wan...      0  \n",
       "2  rt japanmissionun thank you unicef unhcr nyoff...      0  \n",
       "3  know a good law firm in stirling immigration c...      0  \n",
       "4  wall street ally with a skepticism of immigrat...      0  "
      ]
     },
     "execution_count": 4,
     "metadata": {},
     "output_type": "execute_result"
    }
   ],
   "source": [
    "data['label'] = label['label']\n",
    "data.head()"
   ]
  },
  {
   "cell_type": "code",
   "execution_count": 5,
   "metadata": {
    "scrolled": false
   },
   "outputs": [
    {
     "data": {
      "text/plain": [
       "desc     27\n",
       "tweet     0\n",
       "label     0\n",
       "dtype: int64"
      ]
     },
     "execution_count": 5,
     "metadata": {},
     "output_type": "execute_result"
    }
   ],
   "source": [
    "data.isnull().sum()"
   ]
  },
  {
   "cell_type": "code",
   "execution_count": 6,
   "metadata": {
    "scrolled": false
   },
   "outputs": [
    {
     "data": {
      "text/plain": [
       "desc     0\n",
       "tweet    0\n",
       "label    0\n",
       "dtype: int64"
      ]
     },
     "execution_count": 6,
     "metadata": {},
     "output_type": "execute_result"
    }
   ],
   "source": [
    "data = data.dropna().reset_index(drop = True)\n",
    "data.isnull().sum()"
   ]
  },
  {
   "cell_type": "code",
   "execution_count": 7,
   "metadata": {
    "scrolled": false
   },
   "outputs": [
    {
     "data": {
      "text/plain": [
       "(1473, 3)"
      ]
     },
     "execution_count": 7,
     "metadata": {},
     "output_type": "execute_result"
    }
   ],
   "source": [
    "data.shape"
   ]
  },
  {
   "cell_type": "code",
   "execution_count": 8,
   "metadata": {
    "scrolled": false
   },
   "outputs": [],
   "source": [
    "def tokenize(text):\n",
    "    return [word for word in word_tokenize(text.lower()) if word not in stopwords.words('english')]"
   ]
  },
  {
   "cell_type": "code",
   "execution_count": 9,
   "metadata": {
    "scrolled": false
   },
   "outputs": [],
   "source": [
    "X = data['desc'] + ' ' + data['tweet']\n",
    "Y = data['label']"
   ]
  },
  {
   "cell_type": "code",
   "execution_count": 10,
   "metadata": {
    "scrolled": false
   },
   "outputs": [],
   "source": [
    "clfs = [DecisionTreeClassifier(), SVC(), RandomForestClassifier(), BernoulliNB()]\n",
    "clf_names = ['Decision Trees', 'Support Vector Machine', 'Random Forest', 'Naive Bayes']"
   ]
  },
  {
   "cell_type": "code",
   "execution_count": 11,
   "metadata": {
    "scrolled": false
   },
   "outputs": [],
   "source": [
    "feats = ['TF-IDF', 'PV-DM', 'PV-DBOW']"
   ]
  },
  {
   "cell_type": "code",
   "execution_count": 12,
   "metadata": {
    "scrolled": false
   },
   "outputs": [
    {
     "name": "stdout",
     "output_type": "stream",
     "text": [
      "Wall time: 30.7 s\n"
     ]
    }
   ],
   "source": [
    "%%time\n",
    "vectorizer = TfidfVectorizer(tokenizer = tokenize)\n",
    "vectorized_data = vectorizer.fit_transform(X)"
   ]
  },
  {
   "cell_type": "code",
   "execution_count": 13,
   "metadata": {
    "scrolled": false
   },
   "outputs": [
    {
     "name": "stdout",
     "output_type": "stream",
     "text": [
      "Wall time: 30.1 s\n"
     ]
    }
   ],
   "source": [
    "%%time\n",
    "tagged_data = [TaggedDocument(words = tokenize(_d), tags=[str(i)]) for i, _d in enumerate(X)]"
   ]
  },
  {
   "cell_type": "code",
   "execution_count": 14,
   "metadata": {
    "scrolled": false
   },
   "outputs": [],
   "source": [
    "cores = multiprocessing.cpu_count()"
   ]
  },
  {
   "cell_type": "code",
   "execution_count": 15,
   "metadata": {
    "scrolled": false
   },
   "outputs": [
    {
     "name": "stdout",
     "output_type": "stream",
     "text": [
      "Wall time: 2min 5s\n"
     ]
    }
   ],
   "source": [
    "%%time\n",
    "d2v_dm = Doc2Vec(tagged_data, dm=1, min_count=20, window=2, size=300, sample=6e-5, alpha=0.03, min_alpha=0.0007, negative=20, workers=cores-1)\n",
    "d2v_dbow = Doc2Vec(tagged_data, dm=0, min_count=20, window=2, size=300, sample=6e-5, alpha=0.03, min_alpha=0.0007, negative=20, workers=cores-1)"
   ]
  },
  {
   "cell_type": "code",
   "execution_count": 16,
   "metadata": {
    "scrolled": false
   },
   "outputs": [],
   "source": [
    "results = dict()\n",
    "cross_val = dict()"
   ]
  },
  {
   "cell_type": "code",
   "execution_count": 17,
   "metadata": {
    "scrolled": false
   },
   "outputs": [],
   "source": [
    "def eval(clf_name, feat, y_test, predictions):\n",
    "    scores = dict()\n",
    "    \n",
    "    if clf_name not in results:\n",
    "        results[clf_name] = {'accuracy': [],\n",
    "                             'macro_precision': [], 'macro_recall': [], 'macro_f1': [],\n",
    "                             'micro_precision': [], 'micro_recall': [], 'micro_f1': []}\n",
    "    \n",
    "    results[clf_name]['accuracy'].append(accuracy_score(y_test, predictions))\n",
    "\n",
    "    results[clf_name]['macro_precision'].append(precision_score(y_test, predictions, average='macro'))\n",
    "    results[clf_name]['macro_recall'].append(recall_score(y_test, predictions, average='macro'))\n",
    "    results[clf_name]['macro_f1'].append(f1_score(y_test, predictions, average='macro'))\n",
    "\n",
    "    results[clf_name]['micro_precision'].append(precision_score(y_test, predictions, average='micro'))\n",
    "    results[clf_name]['micro_recall'].append(recall_score(y_test, predictions, average='micro'))\n",
    "    results[clf_name]['micro_f1'].append(f1_score(y_test, predictions, average='micro'))"
   ]
  },
  {
   "cell_type": "code",
   "execution_count": 18,
   "metadata": {
    "scrolled": false
   },
   "outputs": [],
   "source": [
    "def cross(clf, clf_name, feat, X_train, Y_train):\n",
    "    kf = KFold(n_splits=10, random_state = 42, shuffle = True)\n",
    "    scores = cross_val_score(clf, X_train, Y_train, cv = kf)\n",
    "    \n",
    "    if clf_name not in cross_val:\n",
    "        cross_val[clf_name] = {feat: scores}\n",
    "    else:\n",
    "        cross_val[clf_name].update({feat: scores})"
   ]
  },
  {
   "cell_type": "code",
   "execution_count": 19,
   "metadata": {
    "scrolled": false
   },
   "outputs": [],
   "source": [
    "def split(X, Y):\n",
    "    return train_test_split(X, Y, test_size = .4, shuffle = False)"
   ]
  },
  {
   "cell_type": "code",
   "execution_count": 20,
   "metadata": {
    "scrolled": false
   },
   "outputs": [],
   "source": [
    "def train_tfidf(clf, clf_name, X, Y):\n",
    "    X_train, X_test, Y_train, Y_test = split(X, Y)\n",
    "    clf.fit(X_train, Y_train)\n",
    "    predictions = clf.predict(X_test)\n",
    "    \n",
    "    cross(clf, clf_name, feats[0], X_train, Y_train)\n",
    "    eval(clf_name, feats[0], Y_test, predictions)"
   ]
  },
  {
   "cell_type": "code",
   "execution_count": 21,
   "metadata": {
    "scrolled": false
   },
   "outputs": [],
   "source": [
    "def train_d2v(model, feat, clf, clf_name, X, Y):\n",
    "    X_train, X_test, Y_train, Y_test = split(X, Y)\n",
    "    \n",
    "    x_train = []\n",
    "    y_train = []\n",
    "    x_test = []\n",
    "    y_test = []\n",
    "\n",
    "    for i in range(X_train.shape[0]):\n",
    "        x_train.append(model[str(i)])\n",
    "        y_train.append(Y_train[i])\n",
    "    \n",
    "    for i in range(X_test.shape[0]):\n",
    "        x_test.append(model[str(i + X_train.shape[0])])\n",
    "        y_test.append(Y_test[i + X_train.shape[0]])\n",
    "        \n",
    "    clf.fit(x_train, y_train)\n",
    "    predictions = clf.predict(x_test)\n",
    "    \n",
    "    cross(clf, clf_name, feat, x_train, y_train)\n",
    "    eval(clf_name, feat, y_test, predictions)"
   ]
  },
  {
   "cell_type": "code",
   "execution_count": 22,
   "metadata": {
    "scrolled": false
   },
   "outputs": [
    {
     "name": "stdout",
     "output_type": "stream",
     "text": [
      "Wall time: 19.9 s\n"
     ]
    }
   ],
   "source": [
    "%%time\n",
    "for i in range(len(clfs)):\n",
    "    train_tfidf(clfs[i], clf_names[i], vectorized_data, Y)\n",
    "    train_d2v(d2v_dm, feats[1], clfs[i], clf_names[i], X, Y)\n",
    "    train_d2v(d2v_dbow, feats[2], clfs[i], clf_names[i], X, Y)"
   ]
  },
  {
   "cell_type": "code",
   "execution_count": 23,
   "metadata": {
    "scrolled": false
   },
   "outputs": [
    {
     "name": "stdout",
     "output_type": "stream",
     "text": [
      "\n",
      "Classifier: Decision Trees\n",
      "\n",
      "\t\t\tTF-IDF\t\tPV-DM\t\tPV-DBOW\n",
      " ----------------------------------------------------------------\n",
      "accuracy            :\t0.862712\t0.794915\t0.810169\n",
      "macro_precision     :\t0.573577\t0.509644\t0.504224\n",
      "macro_recall        :\t0.580185\t0.515926\t0.506111\n",
      "macro_f1            :\t0.576611\t0.506631\t0.502425\n",
      "micro_precision     :\t0.862712\t0.794915\t0.810169\n",
      "micro_recall        :\t0.862712\t0.794915\t0.810169\n",
      "micro_f1            :\t0.862712\t0.794915\t0.810169\n",
      "\n",
      "Classifier: Support Vector Machine\n",
      "\n",
      "\t\t\tTF-IDF\t\tPV-DM\t\tPV-DBOW\n",
      " ----------------------------------------------------------------\n",
      "accuracy            :\t0.915254\t0.915254\t0.915254\n",
      "macro_precision     :\t0.457627\t0.457627\t0.457627\n",
      "macro_recall        :\t0.500000\t0.500000\t0.500000\n",
      "macro_f1            :\t0.477876\t0.477876\t0.477876\n",
      "micro_precision     :\t0.915254\t0.915254\t0.915254\n",
      "micro_recall        :\t0.915254\t0.915254\t0.915254\n",
      "micro_f1            :\t0.915254\t0.915254\t0.915254\n",
      "\n",
      "Classifier: Random Forest\n",
      "\n",
      "\t\t\tTF-IDF\t\tPV-DM\t\tPV-DBOW\n",
      " ----------------------------------------------------------------\n",
      "accuracy            :\t0.918644\t0.915254\t0.915254\n",
      "macro_precision     :\t0.959184\t0.457627\t0.457627\n",
      "macro_recall        :\t0.520000\t0.500000\t0.500000\n",
      "macro_f1            :\t0.517185\t0.477876\t0.477876\n",
      "micro_precision     :\t0.918644\t0.915254\t0.915254\n",
      "micro_recall        :\t0.918644\t0.915254\t0.915254\n",
      "micro_f1            :\t0.918644\t0.915254\t0.915254\n",
      "\n",
      "Classifier: Naive Bayes\n",
      "\n",
      "\t\t\tTF-IDF\t\tPV-DM\t\tPV-DBOW\n",
      " ----------------------------------------------------------------\n",
      "accuracy            :\t0.915254\t0.766102\t0.913559\n",
      "macro_precision     :\t0.457627\t0.509375\t0.457555\n",
      "macro_recall        :\t0.500000\t0.518333\t0.499074\n",
      "macro_f1            :\t0.477876\t0.501103\t0.477414\n",
      "micro_precision     :\t0.915254\t0.766102\t0.913559\n",
      "micro_recall        :\t0.915254\t0.766102\t0.913559\n",
      "micro_f1            :\t0.915254\t0.766102\t0.913559\n"
     ]
    }
   ],
   "source": [
    "for c in results:\n",
    "    print('\\nClassifier: {}'.format(c))\n",
    "    print('\\n\\t\\t\\t{}\\t\\t{}\\t\\t{}\\n'.format(feats[0], feats[1], feats[2]), '-' * 64)\n",
    "    for s in results[c]:\n",
    "        print('{:20s}:\\t{:f}\\t{:f}\\t{:f}'.format(s, results[c][s][0], results[c][s][1], results[c][s][2]))"
   ]
  },
  {
   "cell_type": "code",
   "execution_count": 24,
   "metadata": {},
   "outputs": [],
   "source": [
    "def bar_plot(clf_name, scores):\n",
    "    index = np.arange(len(feats))\n",
    "    plt.barh(index, scores, color=['royalblue', 'cornflowerblue', 'lightsteelblue'])\n",
    "    plt.xlabel('Accuracy', fontsize = 10)\n",
    "    plt.ylabel('Feature extraction method', fontsize = 10)\n",
    "    plt.yticks(index, feats, fontsize = 10)\n",
    "    plt.gcf().subplots_adjust(left = 0.25)\n",
    "    plt.title(clf_name)\n",
    "    plt.savefig('_'.join(clf_name.split()).lower() + '_acc.png')\n",
    "    plt.show()"
   ]
  },
  {
   "cell_type": "code",
   "execution_count": 25,
   "metadata": {},
   "outputs": [
    {
     "data": {
      "image/png": "[encoded data removed]",
      "text/plain": [
       "<Figure size 432x288 with 1 Axes>"
      ]
     },
     "metadata": {
      "needs_background": "light"
     },
     "output_type": "display_data"
    },
    {
     "data": {
      "image/png": "[encoded data removed]",
      "text/plain": [
       "<Figure size 432x288 with 1 Axes>"
      ]
     },
     "metadata": {
      "needs_background": "light"
     },
     "output_type": "display_data"
    },
    {
     "data": {
      "image/png": "[encoded data removed]",
      "text/plain": [
       "<Figure size 432x288 with 1 Axes>"
      ]
     },
     "metadata": {
      "needs_background": "light"
     },
     "output_type": "display_data"
    },
    {
     "data": {
      "image/png": "[encoded data removed]",
      "text/plain": [
       "<Figure size 432x288 with 1 Axes>"
      ]
     },
     "metadata": {
      "needs_background": "light"
     },
     "output_type": "display_data"
    }
   ],
   "source": [
    "for c in results:\n",
    "    clf_name = c\n",
    "    scores = [results[c]['accuracy'][0], results[c]['accuracy'][1], results[c]['accuracy'][2]]\n",
    "    bar_plot(clf_name, scores)"
   ]
  },
  {
   "cell_type": "code",
   "execution_count": 26,
   "metadata": {
    "scrolled": false
   },
   "outputs": [],
   "source": [
    "def fold_plot(clf_name):\n",
    "    plt.xlabel('Fold as test set')\n",
    "    plt.ylim(0.5, 1)\n",
    "    plt.ylabel('Score')\n",
    "    plt.plot(np.arange(1, 11), cross_val[clf_name]['TF-IDF'], color='blue')\n",
    "    plt.plot(np.arange(1, 11), cross_val[clf_name]['PV-DM'], color='red', linestyle='dashed')\n",
    "    plt.plot(np.arange(1, 11), cross_val[clf_name]['PV-DBOW'], color='green', linestyle='dotted')\n",
    "    plt.legend(['TF-IDF', 'PV-DM', 'PV-DBOW'], loc='lower right')\n",
    "    plt.title(clf_name)\n",
    "    plt.savefig('_'.join(clf_name.split()).lower() + '_fold.png')\n",
    "    plt.show()"
   ]
  },
  {
   "cell_type": "code",
   "execution_count": 27,
   "metadata": {
    "scrolled": false
   },
   "outputs": [
    {
     "data": {
      "image/png": "[encoded data removed]",
      "text/plain": [
       "<Figure size 432x288 with 1 Axes>"
      ]
     },
     "metadata": {
      "needs_background": "light"
     },
     "output_type": "display_data"
    },
    {
     "data": {
      "image/png": "[encoded data removed]",
      "text/plain": [
       "<Figure size 432x288 with 1 Axes>"
      ]
     },
     "metadata": {
      "needs_background": "light"
     },
     "output_type": "display_data"
    },
    {
     "data": {
      "image/png": "[encoded data removed]",
      "text/plain": [
       "<Figure size 432x288 with 1 Axes>"
      ]
     },
     "metadata": {
      "needs_background": "light"
     },
     "output_type": "display_data"
    },
    {
     "data": {
      "image/png": "[encoded data removed]",
      "text/plain": [
       "<Figure size 432x288 with 1 Axes>"
      ]
     },
     "metadata": {
      "needs_background": "light"
     },
     "output_type": "display_data"
    }
   ],
   "source": [
    "for c in cross_val:\n",
    "    fold_plot(c)"
   ]
  }
 ],
 "metadata": {
  "kernelspec": {
   "display_name": "Python 3",
   "language": "python",
   "name": "python3"
  },
  "language_info": {
   "codemirror_mode": {
    "name": "ipython",
    "version": 3
   },
   "file_extension": ".py",
   "mimetype": "text/x-python",
   "name": "python",
   "nbconvert_exporter": "python",
   "pygments_lexer": "ipython3",
   "version": "3.6.8"
  }
 },
 "nbformat": 4,
 "nbformat_minor": 2
}
